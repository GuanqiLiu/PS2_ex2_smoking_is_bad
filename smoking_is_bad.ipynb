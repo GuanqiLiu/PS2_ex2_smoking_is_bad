{
 "cells": [
  {
   "cell_type": "markdown",
   "metadata": {},
   "source": [
    "# Smoking is bad"
   ]
  },
  {
   "cell_type": "code",
   "execution_count": null,
   "metadata": {},
   "outputs": [],
   "source": [
    "# TODO: install all the necessary packages for the script to run\n",
    "111"
   ]
  },
  {
   "cell_type": "code",
   "execution_count": null,
   "metadata": {},
   "outputs": [],
   "source": [
    "from pathlib import Path\n",
    "import pandas as pd\n",
    "import numpy as np\n",
    "import seaborn as sns\n",
    "import matplotlib.pyplot as plt\n",
    "import statsmodels.api as sm\n",
    "from statsmodels.formula.api import logit"
   ]
  },
  {
   "cell_type": "code",
   "execution_count": null,
   "metadata": {},
   "outputs": [],
   "source": [
    "# TODO: load the data using the pathlib library to create the path to your data"
   ]
  },
  {
   "cell_type": "code",
   "execution_count": null,
   "metadata": {},
   "outputs": [],
   "source": [
    "data_path = Path(\"data/smoking_data.csv\")\n",
    "df = pd.read_csv(data_path)"
   ]
  },
  {
   "cell_type": "code",
   "execution_count": null,
   "metadata": {},
   "outputs": [],
   "source": [
    "# TODO: what are the dimensions of the data frame?"
   ]
  },
  {
   "cell_type": "code",
   "execution_count": null,
   "metadata": {},
   "outputs": [],
   "source": [
    "print(\"dimensions of the data frame:\", df.shape)"
   ]
  },
  {
   "cell_type": "code",
   "execution_count": null,
   "metadata": {},
   "outputs": [],
   "source": [
    "# TODO: use .describe() on your data frame: what do you notice about the string columns?"
   ]
  },
  {
   "cell_type": "code",
   "execution_count": null,
   "metadata": {},
   "outputs": [],
   "source": [
    "print(df.describe(include='all'))"
   ]
  },
  {
   "cell_type": "code",
   "execution_count": null,
   "metadata": {},
   "outputs": [],
   "source": [
    "print(df.describe())"
   ]
  },
  {
   "cell_type": "markdown",
   "metadata": {},
   "source": [
    "Doesn't include the string colunmn information"
   ]
  },
  {
   "cell_type": "code",
   "execution_count": null,
   "metadata": {},
   "outputs": [],
   "source": [
    "# TODO: do not forget to check the null values"
   ]
  },
  {
   "cell_type": "code",
   "execution_count": null,
   "metadata": {},
   "outputs": [],
   "source": [
    "print(df.isnull().sum())\n"
   ]
  },
  {
   "cell_type": "code",
   "execution_count": null,
   "metadata": {},
   "outputs": [],
   "source": [
    "# TODO: prepare your data frame so that you can work with"
   ]
  },
  {
   "cell_type": "code",
   "execution_count": null,
   "metadata": {},
   "outputs": [],
   "source": [
    "df['salary'].fillna(0, inplace=True)\n",
    "print(df.head(20))"
   ]
  },
  {
   "cell_type": "markdown",
   "metadata": {},
   "source": [
    "## Smoking analysis\n",
    "Let's first check what your cousin did."
   ]
  },
  {
   "cell_type": "code",
   "execution_count": null,
   "metadata": {},
   "outputs": [],
   "source": [
    "# TODO: Reimplement the small code snippet described in the problem set instructions."
   ]
  },
  {
   "cell_type": "code",
   "execution_count": null,
   "metadata": {},
   "outputs": [],
   "source": [
    "# 将 outcome 列中的 'Alive' 映射为 1，'Dead' 映射为 0\n",
    "df['alive'] = df['outcome'].map({'Alive': 1, 'Dead': 0})\n",
    "\n",
    "# 按 smoker 分组，计算 'alive' 列的均值作为存活的概率\n",
    "result = df.groupby(\"smoker\").agg(prob=(\"alive\", np.mean))\n",
    "\n",
    "print(result)\n"
   ]
  },
  {
   "cell_type": "markdown",
   "metadata": {},
   "source": [
    "You should get the same results."
   ]
  },
  {
   "cell_type": "markdown",
   "metadata": {},
   "source": [
    "# Is smoking really good?\n",
    "Now it is up to you to run the analysis further and check what could be underlying your cousings results."
   ]
  },
  {
   "cell_type": "code",
   "execution_count": null,
   "metadata": {},
   "outputs": [],
   "source": [
    "# 删除不必要的列\n",
    "smoking_data = df.drop(columns=['Unnamed: 0'])\n",
    "\n",
    "# 转换 outcome 列为二值变量（1=Alive, 0=Dead）\n",
    "smoking_data['outcome'] = smoking_data['outcome'].apply(lambda x: 1 if x == 'Alive' else 0)\n",
    "\n",
    "# 将 smoker 和 gender 列转换为二值变量\n",
    "smoking_data['smoker'] = smoking_data['smoker'].apply(lambda x: 1 if x == 'Yes' else 0)\n",
    "smoking_data['gender'] = smoking_data['gender'].apply(lambda x: 1 if x == 'female' else 0)\n",
    "\n",
    "# visulization\n",
    "# 1. 按吸烟状态分组，计算存活概率\n",
    "survival_by_smoker = smoking_data.groupby('smoker')['outcome'].mean()\n",
    "survival_by_smoker.plot(kind='bar', color=['skyblue', 'salmon'], title='Survival Probability by Smoking Status')\n",
    "plt.xlabel('Smoking Status (0=Non-smoker, 1=Smoker)')\n",
    "plt.ylabel('Survival Probability')\n",
    "plt.show()\n",
    "\n",
    "\n",
    "# 2. 使用箱线图观察不同吸烟状态和存活情况下的年龄分布\n",
    "sns.boxplot(x='smoker', y='age', hue='outcome', data=smoking_data, palette='Set2')\n",
    "plt.title('Age Distribution by Smoking Status and Outcome')\n",
    "plt.xlabel('Smoking Status (0=Non-smoker, 1=Smoker)')\n",
    "plt.ylabel('Age')\n",
    "plt.show()\n",
    "\n",
    "# 3. 使用箱线图观察不同吸烟状态和存活情况下的收入分布\n",
    "sns.boxplot(x='smoker', y='salary', hue='outcome', data=smoking_data, palette='Set2')\n",
    "plt.title('Salary Distribution by Smoking Status and Outcome')\n",
    "plt.xlabel('Smoking Status (0=Non-smoker, 1=Smoker)')\n",
    "plt.ylabel('Salary')\n",
    "plt.show()\n",
    "\n",
    "# 逻辑回归分析\n",
    "# 设定逻辑回归模型公式，因变量为 outcome，自变量包括 smoker, age, gender, salary\n",
    "logit_model = logit('outcome ~ smoker + age + gender + salary', data=smoking_data).fit()\n",
    "\n",
    "# 输出回归结果\n",
    "print(logit_model.summary())"
   ]
  },
  {
   "cell_type": "markdown",
   "metadata": {},
   "source": [
    "The coefficient for smoker is -0.2056, with a p-value of 0.224, indicating it is not statistically significant. This suggests that, after controlling for other variables, smoking does not have a significant effect on survival rate."
   ]
  }
 ],
 "metadata": {
  "kernelspec": {
   "display_name": "smoke",
   "language": "python",
   "name": "python3"
  },
  "language_info": {
   "codemirror_mode": {
    "name": "ipython",
    "version": 3
   },
   "file_extension": ".py",
   "mimetype": "text/x-python",
   "name": "python",
   "nbconvert_exporter": "python",
   "pygments_lexer": "ipython3",
   "version": "3.11.10"
  }
 },
 "nbformat": 4,
 "nbformat_minor": 2
}
